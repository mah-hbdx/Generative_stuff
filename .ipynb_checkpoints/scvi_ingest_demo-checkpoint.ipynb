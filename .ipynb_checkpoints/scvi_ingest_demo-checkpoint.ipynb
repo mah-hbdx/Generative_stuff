{
 "cells": [
  {
   "cell_type": "code",
   "execution_count": 1,
   "id": "conventional-morgan",
   "metadata": {},
   "outputs": [],
   "source": [
    "\n",
    "import numpy as np\n",
    "import scipy as sp\n",
    "import scipy.sparse\n",
    "import pandas as pd\n",
    "import os\n",
    "import bbknn\n",
    "\n",
    "import anndata as ad\n",
    "\n",
    "import scanpy as sc\n",
    "import scvi\n",
    "\n",
    "import matplotlib.pyplot as plt\n",
    "\n",
    "import hummingbird as hbdx"
   ]
  },
  {
   "cell_type": "code",
   "execution_count": 2,
   "id": "minimal-gilbert",
   "metadata": {},
   "outputs": [],
   "source": [
    "%matplotlib inline\n",
    "%load_ext autoreload\n",
    "%autoreload 2"
   ]
  },
  {
   "cell_type": "code",
   "execution_count": 3,
   "id": "italian-brooks",
   "metadata": {},
   "outputs": [],
   "source": [
    "# settings\n",
    "adata_path = \"/data/hbdx/test_classifynder/data/LC__ngs__rpm_log-current\"\n",
    "# adata_path = \"LC__ngs__rpm__log-current\"\n",
    "n_features = 5000\n",
    "\n",
    "sc.set_figure_params(figsize=(10,10))\n",
    "#plt.rcParams['figure.figsize'] = [15,10]\n",
    "#plt.rcParams['figure.dpi'] = 100 # 200 e.g. is really fine, but slower"
   ]
  },
  {
   "cell_type": "code",
   "execution_count": 4,
   "id": "analyzed-shelter",
   "metadata": {},
   "outputs": [],
   "source": [
    "def get_data(adata_path, batch_col=\"Lab_Multiplexing_pool_ID\", cell_col=None, condition_col=\"Diagnosis_Group\"):\n",
    "    adata = hbdx.io.load(adata_path)\n",
    "    \n",
    "#     create new column in obs, pool_ID_simple, which is represented in int instead of the pool ID name. \n",
    "    pool_id_mapping = {label:f\"pool{i}\" for i, label in enumerate(adata.obs.Lab_Multiplexing_pool_ID.unique())}\n",
    "    adata.obs[\"Lab_Multiplexing_pool_ID_simple\"] = adata.obs.Lab_Multiplexing_pool_ID.map(pool_id_mapping)\n",
    "    \n",
    "    \n",
    "    #adata.obs[\"gender_diagnosis\"] = adata.obs.apply(lambda x: x[\"Gender\"]+\"__\" +x[\"Diagnosis_Group\"], axis=1)\n",
    "    \n",
    "#     not sure what/why is happening here, probably to make the column name smaller\n",
    "    adata.obs[\"batch\"] = adata.obs[batch_col]\n",
    "\n",
    "#     setting all unknown cell type to blood\n",
    "    adata.obs[\"cell_type\"] = adata.obs[cell_col] if not cell_col is None else \"blood\"\n",
    "    \n",
    "    #adata.obs[\"condition\"] = adata.obs[condition_col]\n",
    "\n",
    "    #adata = adata[adata.obs[\"Sample_Group\"]==\"Study\"].copy()\n",
    "    \n",
    "    return adata\n",
    "\n",
    "def apply_preprocessing(adata, feature_selection=False, n_top_genes=2000):\n",
    "    adata = adata.copy()\n",
    "    \"\"\"\n",
    "    creates new columns with qc_metrics, removes low count genes, scales data\n",
    "    and optionally selects highly variable genes\n",
    "    \"\"\"\n",
    "    \n",
    "#     what is the difference between adata.raw.X and adata.X?\n",
    "    adata.layers[\"counts\"] = adata.raw.X\n",
    "    #adata.raw = adata.copy()\n",
    "    \n",
    "#     scanpy qc metrics, quality control? for what? I guess it creates new columns like dropout\n",
    "    sc.pp.calculate_qc_metrics(adata, inplace=True)\n",
    "\n",
    "    \n",
    "    sc.pp.scale(adata) # Scale data to unit variance and zero mean.\n",
    "    sc.pp.highly_variable_genes(adata, n_top_genes=n_top_genes) # Plot dispersions or normalized variance versus means for genes. Documentation vague\n",
    "\n",
    "    adata = adata[adata.obs.n_genes_by_counts > 5, :] # filtering out low gene count?\n",
    "    \n",
    "#     I suppose sc.pp.highly_variable_genes() creates a boolean column called highly_variable in var which you can use to filter. \n",
    "# This is not documented at all\n",
    "    if feature_selection:\n",
    "        adata = adata[:, adata.var.highly_variable]\n",
    "#     print(adata.var.highly_variable)\n",
    "    #sc.tl.pca(adata)\n",
    "    #sc.pp.neighbors(adata)\n",
    "    #sc.tl.umap(adata)\n",
    "    \n",
    "    #adata.raw = adata\n",
    "    #adata.layers[\"log_rpm_scaled\"] = adata\n",
    "    #adata = adata.raw\n",
    "\n",
    "    return adata"
   ]
  },
  {
   "cell_type": "code",
   "execution_count": 5,
   "id": "stylish-sponsorship",
   "metadata": {},
   "outputs": [
    {
     "name": "stdout",
     "output_type": "stream",
     "text": [
      "Sequencer     Lab_RNA_extr_protocol  batch         \n",
      "NextSeq_500   QIAsymphony            201209_471_P2     92\n",
      "                                     201209_471_P3     92\n",
      "                                     210112_468_P7     79\n",
      "                                     210128_468_P8     65\n",
      "                                     201202_468_P3     61\n",
      "                                                       ..\n",
      "              manual                 201130_464_P2     48\n",
      "NextSeq_2000  QIAsymphony            201019_468_P2     58\n",
      "                                     201029_454I_P1     6\n",
      "                                     201019_468_P1      4\n",
      "              manual                 201029_454I_P1    22\n",
      "Name: batch, Length: 35, dtype: int64\n"
     ]
    }
   ],
   "source": [
    "adata = get_data(adata_path,\n",
    "                #cell_col=\"Gender\"\n",
    "                )\n",
    "# Filter out\n",
    "baddies = [\"468_0019_S__210122_468_Pool6\", \n",
    "           \"468_0020_S__210122_468_Pool6\",\n",
    "           \"468_0021_S__210122_468_Pool6\",\n",
    "           \"468_0022_S__210122_468_Pool6\",\n",
    "           \"468_0023_S__210122_468_Pool6\",\n",
    "           \"468_0024_S__210122_468_Pool6\"]\n",
    "\n",
    "adata = adata[~adata.obs.index.isin(baddies),:].copy()\n",
    "\n",
    "print(adata.obs.groupby([\"Sequencer\",\"Lab_RNA_extr_protocol\"]).batch.value_counts())\n"
   ]
  },
  {
   "cell_type": "code",
   "execution_count": 6,
   "id": "actual-tracker",
   "metadata": {},
   "outputs": [],
   "source": [
    "holdout_batches=[\"GF_Set1\", \"Konstanz_Pool1\", \"Thorax_Pool2_D2\"] #these do not exist in this dataset?"
   ]
  },
  {
   "cell_type": "code",
   "execution_count": 7,
   "id": "2eed14ba",
   "metadata": {},
   "outputs": [
    {
     "name": "stdout",
     "output_type": "stream",
     "text": [
      "201123_454A_P3\n",
      "201126_454A_P6\n",
      "201120_454A_P2\n",
      "201123_454A_P4\n",
      "201120_454A_P1\n",
      "201126_454A_P5\n",
      "201204_454I_P3\n",
      "201029_454I_P1\n",
      "201204_454I_P2\n",
      "201201_463_P3\n",
      "201104_463_P2\n",
      "201201_463_P4\n",
      "201103_463_P1\n",
      "201130_464_P2\n",
      "201130_464_P1\n",
      "200720_465_P1\n",
      "210128_468_P8\n",
      "210112_468_P7\n",
      "210111_468_P5\n",
      "210112_468_P6\n",
      "201019_468_P2\n",
      "201202_468_P3\n",
      "201202_468_P4\n",
      "210120_471-468_P4\n",
      "210220_471-468_P5\n",
      "201019_468_P1\n",
      "201209_471_P2\n",
      "201209_471_P3\n"
     ]
    }
   ],
   "source": [
    "# print(adata.obs.head())\n",
    "\n",
    "for i in adata.obs.batch.unique():\n",
    "    print(i)\n",
    "\n",
    "holdout_batches=[\"201123_454A_P3\", \"201126_454A_P6\"]\n",
    "\n"
   ]
  },
  {
   "cell_type": "code",
   "execution_count": 8,
   "id": "southern-webster",
   "metadata": {},
   "outputs": [
    {
     "name": "stdout",
     "output_type": "stream",
     "text": [
      "(1673, 5000)\n",
      "(151, 456553)\n",
      "(151, 5000)\n"
     ]
    }
   ],
   "source": [
    "#split data\n",
    "\n",
    "# only apply preprocessing to batches NOT in holdout. returns top 5000 features/HVG.\n",
    "ref_adata = apply_preprocessing(adata[~adata.obs.batch.isin(holdout_batches),:], feature_selection=True, n_top_genes=n_features) \n",
    "print(ref_adata.shape)\n",
    "\n",
    "# Held-out batches without any pre-processing done.\n",
    "new_adata = adata[adata.obs.batch.isin(holdout_batches), :].copy()\n",
    "print(new_adata.shape)\n",
    "new_adata.layers[\"counts\"] = new_adata.raw.X\n",
    "# filter down the held out data on the HVG determined by the held in data.\n",
    "# Note, this data is NOT scaled!\n",
    "new_adata = new_adata[:, ref_adata.var_names].copy()\n",
    "print(new_adata.shape)\n",
    "\n"
   ]
  },
  {
   "cell_type": "code",
   "execution_count": 9,
   "id": "secure-chemical",
   "metadata": {},
   "outputs": [
    {
     "name": "stderr",
     "output_type": "stream",
     "text": [
      "Trying to set attribute `.obs` of view, copying.\n"
     ]
    },
    {
     "name": "stdout",
     "output_type": "stream",
     "text": [
      "(660, 5000)\n",
      "\u001b[34mINFO    \u001b[0m Using batches from adata.obs\u001b[1m[\u001b[0m\u001b[32m\"batch\"\u001b[0m\u001b[1m]\u001b[0m                                               \n",
      "\u001b[34mINFO    \u001b[0m No label_key inputted, assuming all cells have same label                           \n",
      "\u001b[34mINFO    \u001b[0m Using data from adata.layers\u001b[1m[\u001b[0m\u001b[32m\"counts\"\u001b[0m\u001b[1m]\u001b[0m                                              \n",
      "\u001b[34mINFO    \u001b[0m Computing library size prior per batch                                              \n",
      "\u001b[34mINFO    \u001b[0m Successfully registered anndata object containing \u001b[1;36m660\u001b[0m cells, \u001b[1;36m5000\u001b[0m vars, \u001b[1;36m26\u001b[0m batches, \n",
      "         \u001b[1;36m1\u001b[0m labels, and \u001b[1;36m0\u001b[0m proteins. Also registered \u001b[1;36m5\u001b[0m extra categorical covariates and \u001b[1;36m0\u001b[0m extra\n",
      "         continuous covariates.                                                              \n",
      "\u001b[34mINFO    \u001b[0m Please do not further modify adata until model is trained.                          \n"
     ]
    }
   ],
   "source": [
    "# Filter out samples with less than count of 1, reduces samples from 1679 to 661!\n",
    "sc.pp.filter_cells(ref_adata, \n",
    "                min_counts=1\n",
    "                    )\n",
    "print(ref_adata.shape)\n",
    "\n",
    "scvi.data.setup_anndata(ref_adata, batch_key=\"batch\", layer=\"counts\", categorical_covariate_keys=[\"Sequencer\", \"Lab_RNA_extr_protocol\", \"Sample_Group\", \"Gender\", \"Diagnosis_Group\"])\n",
    "\n",
    "vae = scvi.model.SCVI(ref_adata, n_latent=50)\n"
   ]
  },
  {
   "cell_type": "code",
   "execution_count": 10,
   "id": "editorial-trailer",
   "metadata": {},
   "outputs": [
    {
     "data": {
      "text/html": [
       "<pre style=\"white-space:pre;overflow-x:auto;line-height:normal;font-family:Menlo,'DejaVu Sans Mono',consolas,'Courier New',monospace\">Anndata setup with scvi-tools version <span style=\"color: #008080; text-decoration-color: #008080; font-weight: bold\">0.9</span>.<span style=\"color: #008080; text-decoration-color: #008080; font-weight: bold\">1</span>.\n",
       "</pre>\n"
      ],
      "text/plain": [
       "Anndata setup with scvi-tools version \u001b[1;36m0.9\u001b[0m.\u001b[1;36m1\u001b[0m.\n"
      ]
     },
     "metadata": {},
     "output_type": "display_data"
    },
    {
     "data": {
      "text/html": [
       "<pre style=\"white-space:pre;overflow-x:auto;line-height:normal;font-family:Menlo,'DejaVu Sans Mono',consolas,'Courier New',monospace\"><span style=\"font-style: italic\">              Data Summary              </span>\n",
       "┏━━━━━━━━━━━━━━━━━━━━━━━━━━━━━━┳━━━━━━━┓\n",
       "┃<span style=\"font-weight: bold\">             Data             </span>┃<span style=\"font-weight: bold\"> Count </span>┃\n",
       "┡━━━━━━━━━━━━━━━━━━━━━━━━━━━━━━╇━━━━━━━┩\n",
       "│<span style=\"color: #0087ff; text-decoration-color: #0087ff\">            Cells             </span>│<span style=\"color: #af00d7; text-decoration-color: #af00d7\">  660  </span>│\n",
       "│<span style=\"color: #0087ff; text-decoration-color: #0087ff\">             Vars             </span>│<span style=\"color: #af00d7; text-decoration-color: #af00d7\"> 5000  </span>│\n",
       "│<span style=\"color: #0087ff; text-decoration-color: #0087ff\">            Labels            </span>│<span style=\"color: #af00d7; text-decoration-color: #af00d7\">   1   </span>│\n",
       "│<span style=\"color: #0087ff; text-decoration-color: #0087ff\">           Batches            </span>│<span style=\"color: #af00d7; text-decoration-color: #af00d7\">  26   </span>│\n",
       "│<span style=\"color: #0087ff; text-decoration-color: #0087ff\">           Proteins           </span>│<span style=\"color: #af00d7; text-decoration-color: #af00d7\">   0   </span>│\n",
       "│<span style=\"color: #0087ff; text-decoration-color: #0087ff\"> Extra Categorical Covariates </span>│<span style=\"color: #af00d7; text-decoration-color: #af00d7\">   5   </span>│\n",
       "│<span style=\"color: #0087ff; text-decoration-color: #0087ff\"> Extra Continuous Covariates  </span>│<span style=\"color: #af00d7; text-decoration-color: #af00d7\">   0   </span>│\n",
       "└──────────────────────────────┴───────┘\n",
       "</pre>\n"
      ],
      "text/plain": [
       "\u001b[3m              Data Summary              \u001b[0m\n",
       "┏━━━━━━━━━━━━━━━━━━━━━━━━━━━━━━┳━━━━━━━┓\n",
       "┃\u001b[1m \u001b[0m\u001b[1m            Data            \u001b[0m\u001b[1m \u001b[0m┃\u001b[1m \u001b[0m\u001b[1mCount\u001b[0m\u001b[1m \u001b[0m┃\n",
       "┡━━━━━━━━━━━━━━━━━━━━━━━━━━━━━━╇━━━━━━━┩\n",
       "│\u001b[38;5;33m \u001b[0m\u001b[38;5;33m           Cells            \u001b[0m\u001b[38;5;33m \u001b[0m│\u001b[38;5;128m \u001b[0m\u001b[38;5;128m 660 \u001b[0m\u001b[38;5;128m \u001b[0m│\n",
       "│\u001b[38;5;33m \u001b[0m\u001b[38;5;33m            Vars            \u001b[0m\u001b[38;5;33m \u001b[0m│\u001b[38;5;128m \u001b[0m\u001b[38;5;128m5000 \u001b[0m\u001b[38;5;128m \u001b[0m│\n",
       "│\u001b[38;5;33m \u001b[0m\u001b[38;5;33m           Labels           \u001b[0m\u001b[38;5;33m \u001b[0m│\u001b[38;5;128m \u001b[0m\u001b[38;5;128m  1  \u001b[0m\u001b[38;5;128m \u001b[0m│\n",
       "│\u001b[38;5;33m \u001b[0m\u001b[38;5;33m          Batches           \u001b[0m\u001b[38;5;33m \u001b[0m│\u001b[38;5;128m \u001b[0m\u001b[38;5;128m 26  \u001b[0m\u001b[38;5;128m \u001b[0m│\n",
       "│\u001b[38;5;33m \u001b[0m\u001b[38;5;33m          Proteins          \u001b[0m\u001b[38;5;33m \u001b[0m│\u001b[38;5;128m \u001b[0m\u001b[38;5;128m  0  \u001b[0m\u001b[38;5;128m \u001b[0m│\n",
       "│\u001b[38;5;33m \u001b[0m\u001b[38;5;33mExtra Categorical Covariates\u001b[0m\u001b[38;5;33m \u001b[0m│\u001b[38;5;128m \u001b[0m\u001b[38;5;128m  5  \u001b[0m\u001b[38;5;128m \u001b[0m│\n",
       "│\u001b[38;5;33m \u001b[0m\u001b[38;5;33mExtra Continuous Covariates \u001b[0m\u001b[38;5;33m \u001b[0m│\u001b[38;5;128m \u001b[0m\u001b[38;5;128m  0  \u001b[0m\u001b[38;5;128m \u001b[0m│\n",
       "└──────────────────────────────┴───────┘\n"
      ]
     },
     "metadata": {},
     "output_type": "display_data"
    },
    {
     "data": {
      "text/html": [
       "<pre style=\"white-space:pre;overflow-x:auto;line-height:normal;font-family:Menlo,'DejaVu Sans Mono',consolas,'Courier New',monospace\"><span style=\"font-style: italic\">                    SCVI Data Registry                    </span>\n",
       "┏━━━━━━━━━━━━━━━┳━━━━━━━━━━━━━━━━━━━━━━━━━━━━━━━━━━━━━━━━┓\n",
       "┃<span style=\"font-weight: bold\">     Data      </span>┃<span style=\"font-weight: bold\">          scvi-tools Location           </span>┃\n",
       "┡━━━━━━━━━━━━━━━╇━━━━━━━━━━━━━━━━━━━━━━━━━━━━━━━━━━━━━━━━┩\n",
       "│<span style=\"color: #0087ff; text-decoration-color: #0087ff\">       X       </span>│<span style=\"color: #af00d7; text-decoration-color: #af00d7\">         adata.layers['counts']         </span>│\n",
       "│<span style=\"color: #0087ff; text-decoration-color: #0087ff\"> batch_indices </span>│<span style=\"color: #af00d7; text-decoration-color: #af00d7\">        adata.obs['_scvi_batch']        </span>│\n",
       "│<span style=\"color: #0087ff; text-decoration-color: #0087ff\"> local_l_mean  </span>│<span style=\"color: #af00d7; text-decoration-color: #af00d7\">    adata.obs['_scvi_local_l_mean']     </span>│\n",
       "│<span style=\"color: #0087ff; text-decoration-color: #0087ff\">  local_l_var  </span>│<span style=\"color: #af00d7; text-decoration-color: #af00d7\">     adata.obs['_scvi_local_l_var']     </span>│\n",
       "│<span style=\"color: #0087ff; text-decoration-color: #0087ff\">    labels     </span>│<span style=\"color: #af00d7; text-decoration-color: #af00d7\">       adata.obs['_scvi_labels']        </span>│\n",
       "│<span style=\"color: #0087ff; text-decoration-color: #0087ff\">   cat_covs    </span>│<span style=\"color: #af00d7; text-decoration-color: #af00d7\"> adata.obsm['_scvi_extra_categoricals'] </span>│\n",
       "└───────────────┴────────────────────────────────────────┘\n",
       "</pre>\n"
      ],
      "text/plain": [
       "\u001b[3m                    SCVI Data Registry                    \u001b[0m\n",
       "┏━━━━━━━━━━━━━━━┳━━━━━━━━━━━━━━━━━━━━━━━━━━━━━━━━━━━━━━━━┓\n",
       "┃\u001b[1m \u001b[0m\u001b[1m    Data     \u001b[0m\u001b[1m \u001b[0m┃\u001b[1m \u001b[0m\u001b[1m         scvi-tools Location          \u001b[0m\u001b[1m \u001b[0m┃\n",
       "┡━━━━━━━━━━━━━━━╇━━━━━━━━━━━━━━━━━━━━━━━━━━━━━━━━━━━━━━━━┩\n",
       "│\u001b[38;5;33m \u001b[0m\u001b[38;5;33m      X      \u001b[0m\u001b[38;5;33m \u001b[0m│\u001b[38;5;128m \u001b[0m\u001b[38;5;128m        adata.layers['counts']        \u001b[0m\u001b[38;5;128m \u001b[0m│\n",
       "│\u001b[38;5;33m \u001b[0m\u001b[38;5;33mbatch_indices\u001b[0m\u001b[38;5;33m \u001b[0m│\u001b[38;5;128m \u001b[0m\u001b[38;5;128m       adata.obs['_scvi_batch']       \u001b[0m\u001b[38;5;128m \u001b[0m│\n",
       "│\u001b[38;5;33m \u001b[0m\u001b[38;5;33mlocal_l_mean \u001b[0m\u001b[38;5;33m \u001b[0m│\u001b[38;5;128m \u001b[0m\u001b[38;5;128m   adata.obs['_scvi_local_l_mean']    \u001b[0m\u001b[38;5;128m \u001b[0m│\n",
       "│\u001b[38;5;33m \u001b[0m\u001b[38;5;33m local_l_var \u001b[0m\u001b[38;5;33m \u001b[0m│\u001b[38;5;128m \u001b[0m\u001b[38;5;128m    adata.obs['_scvi_local_l_var']    \u001b[0m\u001b[38;5;128m \u001b[0m│\n",
       "│\u001b[38;5;33m \u001b[0m\u001b[38;5;33m   labels    \u001b[0m\u001b[38;5;33m \u001b[0m│\u001b[38;5;128m \u001b[0m\u001b[38;5;128m      adata.obs['_scvi_labels']       \u001b[0m\u001b[38;5;128m \u001b[0m│\n",
       "│\u001b[38;5;33m \u001b[0m\u001b[38;5;33m  cat_covs   \u001b[0m\u001b[38;5;33m \u001b[0m│\u001b[38;5;128m \u001b[0m\u001b[38;5;128madata.obsm['_scvi_extra_categoricals']\u001b[0m\u001b[38;5;128m \u001b[0m│\n",
       "└───────────────┴────────────────────────────────────────┘\n"
      ]
     },
     "metadata": {},
     "output_type": "display_data"
    },
    {
     "data": {
      "text/html": [
       "<pre style=\"white-space:pre;overflow-x:auto;line-height:normal;font-family:Menlo,'DejaVu Sans Mono',consolas,'Courier New',monospace\"><span style=\"font-style: italic\">                        Label Categories                        </span>\n",
       "┏━━━━━━━━━━━━━━━━━━━━━━━━━━━┳━━━━━━━━━━━━┳━━━━━━━━━━━━━━━━━━━━━┓\n",
       "┃<span style=\"font-weight: bold\">      Source Location      </span>┃<span style=\"font-weight: bold\"> Categories </span>┃<span style=\"font-weight: bold\"> scvi-tools Encoding </span>┃\n",
       "┡━━━━━━━━━━━━━━━━━━━━━━━━━━━╇━━━━━━━━━━━━╇━━━━━━━━━━━━━━━━━━━━━┩\n",
       "│<span style=\"color: #0087ff; text-decoration-color: #0087ff\"> adata.obs['_scvi_labels'] </span>│<span style=\"color: #008000; text-decoration-color: #008000\">     0      </span>│<span style=\"color: #af00d7; text-decoration-color: #af00d7\">          0          </span>│\n",
       "└───────────────────────────┴────────────┴─────────────────────┘\n",
       "</pre>\n"
      ],
      "text/plain": [
       "\u001b[3m                        Label Categories                        \u001b[0m\n",
       "┏━━━━━━━━━━━━━━━━━━━━━━━━━━━┳━━━━━━━━━━━━┳━━━━━━━━━━━━━━━━━━━━━┓\n",
       "┃\u001b[1m \u001b[0m\u001b[1m     Source Location     \u001b[0m\u001b[1m \u001b[0m┃\u001b[1m \u001b[0m\u001b[1mCategories\u001b[0m\u001b[1m \u001b[0m┃\u001b[1m \u001b[0m\u001b[1mscvi-tools Encoding\u001b[0m\u001b[1m \u001b[0m┃\n",
       "┡━━━━━━━━━━━━━━━━━━━━━━━━━━━╇━━━━━━━━━━━━╇━━━━━━━━━━━━━━━━━━━━━┩\n",
       "│\u001b[38;5;33m \u001b[0m\u001b[38;5;33madata.obs['_scvi_labels']\u001b[0m\u001b[38;5;33m \u001b[0m│\u001b[32m \u001b[0m\u001b[32m    0     \u001b[0m\u001b[32m \u001b[0m│\u001b[38;5;128m \u001b[0m\u001b[38;5;128m         0         \u001b[0m\u001b[38;5;128m \u001b[0m│\n",
       "└───────────────────────────┴────────────┴─────────────────────┘\n"
      ]
     },
     "metadata": {},
     "output_type": "display_data"
    },
    {
     "data": {
      "text/html": [
       "<pre style=\"white-space:pre;overflow-x:auto;line-height:normal;font-family:Menlo,'DejaVu Sans Mono',consolas,'Courier New',monospace\"><span style=\"font-style: italic\">                        Batch Categories                        </span>\n",
       "┏━━━━━━━━━━━━━━━━━━━━┳━━━━━━━━━━━━━━━━━━━┳━━━━━━━━━━━━━━━━━━━━━┓\n",
       "┃<span style=\"font-weight: bold\">  Source Location   </span>┃<span style=\"font-weight: bold\">    Categories     </span>┃<span style=\"font-weight: bold\"> scvi-tools Encoding </span>┃\n",
       "┡━━━━━━━━━━━━━━━━━━━━╇━━━━━━━━━━━━━━━━━━━╇━━━━━━━━━━━━━━━━━━━━━┩\n",
       "│<span style=\"color: #0087ff; text-decoration-color: #0087ff\"> adata.obs['batch'] </span>│<span style=\"color: #008000; text-decoration-color: #008000\">   200720_465_P1   </span>│<span style=\"color: #af00d7; text-decoration-color: #af00d7\">          0          </span>│\n",
       "│<span style=\"color: #0087ff; text-decoration-color: #0087ff\">                    </span>│<span style=\"color: #008000; text-decoration-color: #008000\">   201019_468_P1   </span>│<span style=\"color: #af00d7; text-decoration-color: #af00d7\">          1          </span>│\n",
       "│<span style=\"color: #0087ff; text-decoration-color: #0087ff\">                    </span>│<span style=\"color: #008000; text-decoration-color: #008000\">   201019_468_P2   </span>│<span style=\"color: #af00d7; text-decoration-color: #af00d7\">          2          </span>│\n",
       "│<span style=\"color: #0087ff; text-decoration-color: #0087ff\">                    </span>│<span style=\"color: #008000; text-decoration-color: #008000\">  201029_454I_P1   </span>│<span style=\"color: #af00d7; text-decoration-color: #af00d7\">          3          </span>│\n",
       "│<span style=\"color: #0087ff; text-decoration-color: #0087ff\">                    </span>│<span style=\"color: #008000; text-decoration-color: #008000\">   201103_463_P1   </span>│<span style=\"color: #af00d7; text-decoration-color: #af00d7\">          4          </span>│\n",
       "│<span style=\"color: #0087ff; text-decoration-color: #0087ff\">                    </span>│<span style=\"color: #008000; text-decoration-color: #008000\">   201104_463_P2   </span>│<span style=\"color: #af00d7; text-decoration-color: #af00d7\">          5          </span>│\n",
       "│<span style=\"color: #0087ff; text-decoration-color: #0087ff\">                    </span>│<span style=\"color: #008000; text-decoration-color: #008000\">  201120_454A_P1   </span>│<span style=\"color: #af00d7; text-decoration-color: #af00d7\">          6          </span>│\n",
       "│<span style=\"color: #0087ff; text-decoration-color: #0087ff\">                    </span>│<span style=\"color: #008000; text-decoration-color: #008000\">  201120_454A_P2   </span>│<span style=\"color: #af00d7; text-decoration-color: #af00d7\">          7          </span>│\n",
       "│<span style=\"color: #0087ff; text-decoration-color: #0087ff\">                    </span>│<span style=\"color: #008000; text-decoration-color: #008000\">  201123_454A_P4   </span>│<span style=\"color: #af00d7; text-decoration-color: #af00d7\">          8          </span>│\n",
       "│<span style=\"color: #0087ff; text-decoration-color: #0087ff\">                    </span>│<span style=\"color: #008000; text-decoration-color: #008000\">  201126_454A_P5   </span>│<span style=\"color: #af00d7; text-decoration-color: #af00d7\">          9          </span>│\n",
       "│<span style=\"color: #0087ff; text-decoration-color: #0087ff\">                    </span>│<span style=\"color: #008000; text-decoration-color: #008000\">   201130_464_P1   </span>│<span style=\"color: #af00d7; text-decoration-color: #af00d7\">         10          </span>│\n",
       "│<span style=\"color: #0087ff; text-decoration-color: #0087ff\">                    </span>│<span style=\"color: #008000; text-decoration-color: #008000\">   201130_464_P2   </span>│<span style=\"color: #af00d7; text-decoration-color: #af00d7\">         11          </span>│\n",
       "│<span style=\"color: #0087ff; text-decoration-color: #0087ff\">                    </span>│<span style=\"color: #008000; text-decoration-color: #008000\">   201201_463_P3   </span>│<span style=\"color: #af00d7; text-decoration-color: #af00d7\">         12          </span>│\n",
       "│<span style=\"color: #0087ff; text-decoration-color: #0087ff\">                    </span>│<span style=\"color: #008000; text-decoration-color: #008000\">   201201_463_P4   </span>│<span style=\"color: #af00d7; text-decoration-color: #af00d7\">         13          </span>│\n",
       "│<span style=\"color: #0087ff; text-decoration-color: #0087ff\">                    </span>│<span style=\"color: #008000; text-decoration-color: #008000\">   201202_468_P3   </span>│<span style=\"color: #af00d7; text-decoration-color: #af00d7\">         14          </span>│\n",
       "│<span style=\"color: #0087ff; text-decoration-color: #0087ff\">                    </span>│<span style=\"color: #008000; text-decoration-color: #008000\">   201202_468_P4   </span>│<span style=\"color: #af00d7; text-decoration-color: #af00d7\">         15          </span>│\n",
       "│<span style=\"color: #0087ff; text-decoration-color: #0087ff\">                    </span>│<span style=\"color: #008000; text-decoration-color: #008000\">  201204_454I_P2   </span>│<span style=\"color: #af00d7; text-decoration-color: #af00d7\">         16          </span>│\n",
       "│<span style=\"color: #0087ff; text-decoration-color: #0087ff\">                    </span>│<span style=\"color: #008000; text-decoration-color: #008000\">  201204_454I_P3   </span>│<span style=\"color: #af00d7; text-decoration-color: #af00d7\">         17          </span>│\n",
       "│<span style=\"color: #0087ff; text-decoration-color: #0087ff\">                    </span>│<span style=\"color: #008000; text-decoration-color: #008000\">   201209_471_P2   </span>│<span style=\"color: #af00d7; text-decoration-color: #af00d7\">         18          </span>│\n",
       "│<span style=\"color: #0087ff; text-decoration-color: #0087ff\">                    </span>│<span style=\"color: #008000; text-decoration-color: #008000\">   201209_471_P3   </span>│<span style=\"color: #af00d7; text-decoration-color: #af00d7\">         19          </span>│\n",
       "│<span style=\"color: #0087ff; text-decoration-color: #0087ff\">                    </span>│<span style=\"color: #008000; text-decoration-color: #008000\">   210111_468_P5   </span>│<span style=\"color: #af00d7; text-decoration-color: #af00d7\">         20          </span>│\n",
       "│<span style=\"color: #0087ff; text-decoration-color: #0087ff\">                    </span>│<span style=\"color: #008000; text-decoration-color: #008000\">   210112_468_P6   </span>│<span style=\"color: #af00d7; text-decoration-color: #af00d7\">         21          </span>│\n",
       "│<span style=\"color: #0087ff; text-decoration-color: #0087ff\">                    </span>│<span style=\"color: #008000; text-decoration-color: #008000\">   210112_468_P7   </span>│<span style=\"color: #af00d7; text-decoration-color: #af00d7\">         22          </span>│\n",
       "│<span style=\"color: #0087ff; text-decoration-color: #0087ff\">                    </span>│<span style=\"color: #008000; text-decoration-color: #008000\"> 210120_471-468_P4 </span>│<span style=\"color: #af00d7; text-decoration-color: #af00d7\">         23          </span>│\n",
       "│<span style=\"color: #0087ff; text-decoration-color: #0087ff\">                    </span>│<span style=\"color: #008000; text-decoration-color: #008000\">   210128_468_P8   </span>│<span style=\"color: #af00d7; text-decoration-color: #af00d7\">         24          </span>│\n",
       "│<span style=\"color: #0087ff; text-decoration-color: #0087ff\">                    </span>│<span style=\"color: #008000; text-decoration-color: #008000\"> 210220_471-468_P5 </span>│<span style=\"color: #af00d7; text-decoration-color: #af00d7\">         25          </span>│\n",
       "└────────────────────┴───────────────────┴─────────────────────┘\n",
       "</pre>\n"
      ],
      "text/plain": [
       "\u001b[3m                        Batch Categories                        \u001b[0m\n",
       "┏━━━━━━━━━━━━━━━━━━━━┳━━━━━━━━━━━━━━━━━━━┳━━━━━━━━━━━━━━━━━━━━━┓\n",
       "┃\u001b[1m \u001b[0m\u001b[1m Source Location  \u001b[0m\u001b[1m \u001b[0m┃\u001b[1m \u001b[0m\u001b[1m   Categories    \u001b[0m\u001b[1m \u001b[0m┃\u001b[1m \u001b[0m\u001b[1mscvi-tools Encoding\u001b[0m\u001b[1m \u001b[0m┃\n",
       "┡━━━━━━━━━━━━━━━━━━━━╇━━━━━━━━━━━━━━━━━━━╇━━━━━━━━━━━━━━━━━━━━━┩\n",
       "│\u001b[38;5;33m \u001b[0m\u001b[38;5;33madata.obs['batch']\u001b[0m\u001b[38;5;33m \u001b[0m│\u001b[32m \u001b[0m\u001b[32m  200720_465_P1  \u001b[0m\u001b[32m \u001b[0m│\u001b[38;5;128m \u001b[0m\u001b[38;5;128m         0         \u001b[0m\u001b[38;5;128m \u001b[0m│\n",
       "│\u001b[38;5;33m \u001b[0m\u001b[38;5;33m                  \u001b[0m\u001b[38;5;33m \u001b[0m│\u001b[32m \u001b[0m\u001b[32m  201019_468_P1  \u001b[0m\u001b[32m \u001b[0m│\u001b[38;5;128m \u001b[0m\u001b[38;5;128m         1         \u001b[0m\u001b[38;5;128m \u001b[0m│\n",
       "│\u001b[38;5;33m \u001b[0m\u001b[38;5;33m                  \u001b[0m\u001b[38;5;33m \u001b[0m│\u001b[32m \u001b[0m\u001b[32m  201019_468_P2  \u001b[0m\u001b[32m \u001b[0m│\u001b[38;5;128m \u001b[0m\u001b[38;5;128m         2         \u001b[0m\u001b[38;5;128m \u001b[0m│\n",
       "│\u001b[38;5;33m \u001b[0m\u001b[38;5;33m                  \u001b[0m\u001b[38;5;33m \u001b[0m│\u001b[32m \u001b[0m\u001b[32m 201029_454I_P1  \u001b[0m\u001b[32m \u001b[0m│\u001b[38;5;128m \u001b[0m\u001b[38;5;128m         3         \u001b[0m\u001b[38;5;128m \u001b[0m│\n",
       "│\u001b[38;5;33m \u001b[0m\u001b[38;5;33m                  \u001b[0m\u001b[38;5;33m \u001b[0m│\u001b[32m \u001b[0m\u001b[32m  201103_463_P1  \u001b[0m\u001b[32m \u001b[0m│\u001b[38;5;128m \u001b[0m\u001b[38;5;128m         4         \u001b[0m\u001b[38;5;128m \u001b[0m│\n",
       "│\u001b[38;5;33m \u001b[0m\u001b[38;5;33m                  \u001b[0m\u001b[38;5;33m \u001b[0m│\u001b[32m \u001b[0m\u001b[32m  201104_463_P2  \u001b[0m\u001b[32m \u001b[0m│\u001b[38;5;128m \u001b[0m\u001b[38;5;128m         5         \u001b[0m\u001b[38;5;128m \u001b[0m│\n",
       "│\u001b[38;5;33m \u001b[0m\u001b[38;5;33m                  \u001b[0m\u001b[38;5;33m \u001b[0m│\u001b[32m \u001b[0m\u001b[32m 201120_454A_P1  \u001b[0m\u001b[32m \u001b[0m│\u001b[38;5;128m \u001b[0m\u001b[38;5;128m         6         \u001b[0m\u001b[38;5;128m \u001b[0m│\n",
       "│\u001b[38;5;33m \u001b[0m\u001b[38;5;33m                  \u001b[0m\u001b[38;5;33m \u001b[0m│\u001b[32m \u001b[0m\u001b[32m 201120_454A_P2  \u001b[0m\u001b[32m \u001b[0m│\u001b[38;5;128m \u001b[0m\u001b[38;5;128m         7         \u001b[0m\u001b[38;5;128m \u001b[0m│\n",
       "│\u001b[38;5;33m \u001b[0m\u001b[38;5;33m                  \u001b[0m\u001b[38;5;33m \u001b[0m│\u001b[32m \u001b[0m\u001b[32m 201123_454A_P4  \u001b[0m\u001b[32m \u001b[0m│\u001b[38;5;128m \u001b[0m\u001b[38;5;128m         8         \u001b[0m\u001b[38;5;128m \u001b[0m│\n",
       "│\u001b[38;5;33m \u001b[0m\u001b[38;5;33m                  \u001b[0m\u001b[38;5;33m \u001b[0m│\u001b[32m \u001b[0m\u001b[32m 201126_454A_P5  \u001b[0m\u001b[32m \u001b[0m│\u001b[38;5;128m \u001b[0m\u001b[38;5;128m         9         \u001b[0m\u001b[38;5;128m \u001b[0m│\n",
       "│\u001b[38;5;33m \u001b[0m\u001b[38;5;33m                  \u001b[0m\u001b[38;5;33m \u001b[0m│\u001b[32m \u001b[0m\u001b[32m  201130_464_P1  \u001b[0m\u001b[32m \u001b[0m│\u001b[38;5;128m \u001b[0m\u001b[38;5;128m        10         \u001b[0m\u001b[38;5;128m \u001b[0m│\n",
       "│\u001b[38;5;33m \u001b[0m\u001b[38;5;33m                  \u001b[0m\u001b[38;5;33m \u001b[0m│\u001b[32m \u001b[0m\u001b[32m  201130_464_P2  \u001b[0m\u001b[32m \u001b[0m│\u001b[38;5;128m \u001b[0m\u001b[38;5;128m        11         \u001b[0m\u001b[38;5;128m \u001b[0m│\n",
       "│\u001b[38;5;33m \u001b[0m\u001b[38;5;33m                  \u001b[0m\u001b[38;5;33m \u001b[0m│\u001b[32m \u001b[0m\u001b[32m  201201_463_P3  \u001b[0m\u001b[32m \u001b[0m│\u001b[38;5;128m \u001b[0m\u001b[38;5;128m        12         \u001b[0m\u001b[38;5;128m \u001b[0m│\n",
       "│\u001b[38;5;33m \u001b[0m\u001b[38;5;33m                  \u001b[0m\u001b[38;5;33m \u001b[0m│\u001b[32m \u001b[0m\u001b[32m  201201_463_P4  \u001b[0m\u001b[32m \u001b[0m│\u001b[38;5;128m \u001b[0m\u001b[38;5;128m        13         \u001b[0m\u001b[38;5;128m \u001b[0m│\n",
       "│\u001b[38;5;33m \u001b[0m\u001b[38;5;33m                  \u001b[0m\u001b[38;5;33m \u001b[0m│\u001b[32m \u001b[0m\u001b[32m  201202_468_P3  \u001b[0m\u001b[32m \u001b[0m│\u001b[38;5;128m \u001b[0m\u001b[38;5;128m        14         \u001b[0m\u001b[38;5;128m \u001b[0m│\n",
       "│\u001b[38;5;33m \u001b[0m\u001b[38;5;33m                  \u001b[0m\u001b[38;5;33m \u001b[0m│\u001b[32m \u001b[0m\u001b[32m  201202_468_P4  \u001b[0m\u001b[32m \u001b[0m│\u001b[38;5;128m \u001b[0m\u001b[38;5;128m        15         \u001b[0m\u001b[38;5;128m \u001b[0m│\n",
       "│\u001b[38;5;33m \u001b[0m\u001b[38;5;33m                  \u001b[0m\u001b[38;5;33m \u001b[0m│\u001b[32m \u001b[0m\u001b[32m 201204_454I_P2  \u001b[0m\u001b[32m \u001b[0m│\u001b[38;5;128m \u001b[0m\u001b[38;5;128m        16         \u001b[0m\u001b[38;5;128m \u001b[0m│\n",
       "│\u001b[38;5;33m \u001b[0m\u001b[38;5;33m                  \u001b[0m\u001b[38;5;33m \u001b[0m│\u001b[32m \u001b[0m\u001b[32m 201204_454I_P3  \u001b[0m\u001b[32m \u001b[0m│\u001b[38;5;128m \u001b[0m\u001b[38;5;128m        17         \u001b[0m\u001b[38;5;128m \u001b[0m│\n",
       "│\u001b[38;5;33m \u001b[0m\u001b[38;5;33m                  \u001b[0m\u001b[38;5;33m \u001b[0m│\u001b[32m \u001b[0m\u001b[32m  201209_471_P2  \u001b[0m\u001b[32m \u001b[0m│\u001b[38;5;128m \u001b[0m\u001b[38;5;128m        18         \u001b[0m\u001b[38;5;128m \u001b[0m│\n",
       "│\u001b[38;5;33m \u001b[0m\u001b[38;5;33m                  \u001b[0m\u001b[38;5;33m \u001b[0m│\u001b[32m \u001b[0m\u001b[32m  201209_471_P3  \u001b[0m\u001b[32m \u001b[0m│\u001b[38;5;128m \u001b[0m\u001b[38;5;128m        19         \u001b[0m\u001b[38;5;128m \u001b[0m│\n",
       "│\u001b[38;5;33m \u001b[0m\u001b[38;5;33m                  \u001b[0m\u001b[38;5;33m \u001b[0m│\u001b[32m \u001b[0m\u001b[32m  210111_468_P5  \u001b[0m\u001b[32m \u001b[0m│\u001b[38;5;128m \u001b[0m\u001b[38;5;128m        20         \u001b[0m\u001b[38;5;128m \u001b[0m│\n",
       "│\u001b[38;5;33m \u001b[0m\u001b[38;5;33m                  \u001b[0m\u001b[38;5;33m \u001b[0m│\u001b[32m \u001b[0m\u001b[32m  210112_468_P6  \u001b[0m\u001b[32m \u001b[0m│\u001b[38;5;128m \u001b[0m\u001b[38;5;128m        21         \u001b[0m\u001b[38;5;128m \u001b[0m│\n",
       "│\u001b[38;5;33m \u001b[0m\u001b[38;5;33m                  \u001b[0m\u001b[38;5;33m \u001b[0m│\u001b[32m \u001b[0m\u001b[32m  210112_468_P7  \u001b[0m\u001b[32m \u001b[0m│\u001b[38;5;128m \u001b[0m\u001b[38;5;128m        22         \u001b[0m\u001b[38;5;128m \u001b[0m│\n",
       "│\u001b[38;5;33m \u001b[0m\u001b[38;5;33m                  \u001b[0m\u001b[38;5;33m \u001b[0m│\u001b[32m \u001b[0m\u001b[32m210120_471-468_P4\u001b[0m\u001b[32m \u001b[0m│\u001b[38;5;128m \u001b[0m\u001b[38;5;128m        23         \u001b[0m\u001b[38;5;128m \u001b[0m│\n",
       "│\u001b[38;5;33m \u001b[0m\u001b[38;5;33m                  \u001b[0m\u001b[38;5;33m \u001b[0m│\u001b[32m \u001b[0m\u001b[32m  210128_468_P8  \u001b[0m\u001b[32m \u001b[0m│\u001b[38;5;128m \u001b[0m\u001b[38;5;128m        24         \u001b[0m\u001b[38;5;128m \u001b[0m│\n",
       "│\u001b[38;5;33m \u001b[0m\u001b[38;5;33m                  \u001b[0m\u001b[38;5;33m \u001b[0m│\u001b[32m \u001b[0m\u001b[32m210220_471-468_P5\u001b[0m\u001b[32m \u001b[0m│\u001b[38;5;128m \u001b[0m\u001b[38;5;128m        25         \u001b[0m\u001b[38;5;128m \u001b[0m│\n",
       "└────────────────────┴───────────────────┴─────────────────────┘\n"
      ]
     },
     "metadata": {},
     "output_type": "display_data"
    },
    {
     "data": {
      "text/html": [
       "<pre style=\"white-space:pre;overflow-x:auto;line-height:normal;font-family:Menlo,'DejaVu Sans Mono',consolas,'Courier New',monospace\"><span style=\"font-style: italic\">                          Extra Categorical Variables                          </span>\n",
       "┏━━━━━━━━━━━━━━━━━━━━━━━━━━━━━━━━━━━━┳━━━━━━━━━━━━━━━━━━┳━━━━━━━━━━━━━━━━━━━━━┓\n",
       "┃<span style=\"font-weight: bold\">          Source Location           </span>┃<span style=\"font-weight: bold\">    Categories    </span>┃<span style=\"font-weight: bold\"> scvi-tools Encoding </span>┃\n",
       "┡━━━━━━━━━━━━━━━━━━━━━━━━━━━━━━━━━━━━╇━━━━━━━━━━━━━━━━━━╇━━━━━━━━━━━━━━━━━━━━━┩\n",
       "│<span style=\"color: #0087ff; text-decoration-color: #0087ff\">       adata.obs['Sequencer']       </span>│<span style=\"color: #008000; text-decoration-color: #008000\">   NextSeq_500    </span>│<span style=\"color: #af00d7; text-decoration-color: #af00d7\">          0          </span>│\n",
       "│<span style=\"color: #0087ff; text-decoration-color: #0087ff\">                                    </span>│<span style=\"color: #008000; text-decoration-color: #008000\">   NextSeq_2000   </span>│<span style=\"color: #af00d7; text-decoration-color: #af00d7\">          1          </span>│\n",
       "│<span style=\"color: #0087ff; text-decoration-color: #0087ff\">                                    </span>│<span style=\"color: #008000; text-decoration-color: #008000\">                  </span>│<span style=\"color: #af00d7; text-decoration-color: #af00d7\">                     </span>│\n",
       "│<span style=\"color: #0087ff; text-decoration-color: #0087ff\"> adata.obs['Lab_RNA_extr_protocol'] </span>│<span style=\"color: #008000; text-decoration-color: #008000\">   QIAsymphony    </span>│<span style=\"color: #af00d7; text-decoration-color: #af00d7\">          0          </span>│\n",
       "│<span style=\"color: #0087ff; text-decoration-color: #0087ff\">                                    </span>│<span style=\"color: #008000; text-decoration-color: #008000\">      manual      </span>│<span style=\"color: #af00d7; text-decoration-color: #af00d7\">          1          </span>│\n",
       "│<span style=\"color: #0087ff; text-decoration-color: #0087ff\">                                    </span>│<span style=\"color: #008000; text-decoration-color: #008000\">                  </span>│<span style=\"color: #af00d7; text-decoration-color: #af00d7\">                     </span>│\n",
       "│<span style=\"color: #0087ff; text-decoration-color: #0087ff\">     adata.obs['Sample_Group']      </span>│<span style=\"color: #008000; text-decoration-color: #008000\"> Standard_control </span>│<span style=\"color: #af00d7; text-decoration-color: #af00d7\">          0          </span>│\n",
       "│<span style=\"color: #0087ff; text-decoration-color: #0087ff\">                                    </span>│<span style=\"color: #008000; text-decoration-color: #008000\">      Study       </span>│<span style=\"color: #af00d7; text-decoration-color: #af00d7\">          1          </span>│\n",
       "│<span style=\"color: #0087ff; text-decoration-color: #0087ff\">                                    </span>│<span style=\"color: #008000; text-decoration-color: #008000\">                  </span>│<span style=\"color: #af00d7; text-decoration-color: #af00d7\">                     </span>│\n",
       "│<span style=\"color: #0087ff; text-decoration-color: #0087ff\">        adata.obs['Gender']         </span>│<span style=\"color: #008000; text-decoration-color: #008000\">      Female      </span>│<span style=\"color: #af00d7; text-decoration-color: #af00d7\">          0          </span>│\n",
       "│<span style=\"color: #0087ff; text-decoration-color: #0087ff\">                                    </span>│<span style=\"color: #008000; text-decoration-color: #008000\">       Male       </span>│<span style=\"color: #af00d7; text-decoration-color: #af00d7\">          1          </span>│\n",
       "│<span style=\"color: #0087ff; text-decoration-color: #0087ff\">                                    </span>│<span style=\"color: #008000; text-decoration-color: #008000\">       nan        </span>│<span style=\"color: #af00d7; text-decoration-color: #af00d7\">          2          </span>│\n",
       "│<span style=\"color: #0087ff; text-decoration-color: #0087ff\">                                    </span>│<span style=\"color: #008000; text-decoration-color: #008000\">                  </span>│<span style=\"color: #af00d7; text-decoration-color: #af00d7\">                     </span>│\n",
       "│<span style=\"color: #0087ff; text-decoration-color: #0087ff\">    adata.obs['Diagnosis_Group']    </span>│<span style=\"color: #008000; text-decoration-color: #008000\">      CaseLC      </span>│<span style=\"color: #af00d7; text-decoration-color: #af00d7\">          0          </span>│\n",
       "│<span style=\"color: #0087ff; text-decoration-color: #0087ff\">                                    </span>│<span style=\"color: #008000; text-decoration-color: #008000\">    CaseNonLC     </span>│<span style=\"color: #af00d7; text-decoration-color: #af00d7\">          1          </span>│\n",
       "│<span style=\"color: #0087ff; text-decoration-color: #0087ff\">                                    </span>│<span style=\"color: #008000; text-decoration-color: #008000\">     Control      </span>│<span style=\"color: #af00d7; text-decoration-color: #af00d7\">          2          </span>│\n",
       "│<span style=\"color: #0087ff; text-decoration-color: #0087ff\">                                    </span>│<span style=\"color: #008000; text-decoration-color: #008000\">       nan        </span>│<span style=\"color: #af00d7; text-decoration-color: #af00d7\">          3          </span>│\n",
       "│<span style=\"color: #0087ff; text-decoration-color: #0087ff\">                                    </span>│<span style=\"color: #008000; text-decoration-color: #008000\">   unsecured_dx   </span>│<span style=\"color: #af00d7; text-decoration-color: #af00d7\">          4          </span>│\n",
       "│<span style=\"color: #0087ff; text-decoration-color: #0087ff\">                                    </span>│<span style=\"color: #008000; text-decoration-color: #008000\">                  </span>│<span style=\"color: #af00d7; text-decoration-color: #af00d7\">                     </span>│\n",
       "└────────────────────────────────────┴──────────────────┴─────────────────────┘\n",
       "</pre>\n"
      ],
      "text/plain": [
       "\u001b[3m                          Extra Categorical Variables                          \u001b[0m\n",
       "┏━━━━━━━━━━━━━━━━━━━━━━━━━━━━━━━━━━━━┳━━━━━━━━━━━━━━━━━━┳━━━━━━━━━━━━━━━━━━━━━┓\n",
       "┃\u001b[1m \u001b[0m\u001b[1m         Source Location          \u001b[0m\u001b[1m \u001b[0m┃\u001b[1m \u001b[0m\u001b[1m   Categories   \u001b[0m\u001b[1m \u001b[0m┃\u001b[1m \u001b[0m\u001b[1mscvi-tools Encoding\u001b[0m\u001b[1m \u001b[0m┃\n",
       "┡━━━━━━━━━━━━━━━━━━━━━━━━━━━━━━━━━━━━╇━━━━━━━━━━━━━━━━━━╇━━━━━━━━━━━━━━━━━━━━━┩\n",
       "│\u001b[38;5;33m \u001b[0m\u001b[38;5;33m      adata.obs['Sequencer']      \u001b[0m\u001b[38;5;33m \u001b[0m│\u001b[32m \u001b[0m\u001b[32m  NextSeq_500   \u001b[0m\u001b[32m \u001b[0m│\u001b[38;5;128m \u001b[0m\u001b[38;5;128m         0         \u001b[0m\u001b[38;5;128m \u001b[0m│\n",
       "│\u001b[38;5;33m \u001b[0m\u001b[38;5;33m                                  \u001b[0m\u001b[38;5;33m \u001b[0m│\u001b[32m \u001b[0m\u001b[32m  NextSeq_2000  \u001b[0m\u001b[32m \u001b[0m│\u001b[38;5;128m \u001b[0m\u001b[38;5;128m         1         \u001b[0m\u001b[38;5;128m \u001b[0m│\n",
       "│\u001b[38;5;33m \u001b[0m\u001b[38;5;33m                                  \u001b[0m\u001b[38;5;33m \u001b[0m│\u001b[32m \u001b[0m\u001b[32m                \u001b[0m\u001b[32m \u001b[0m│\u001b[38;5;128m \u001b[0m\u001b[38;5;128m                   \u001b[0m\u001b[38;5;128m \u001b[0m│\n",
       "│\u001b[38;5;33m \u001b[0m\u001b[38;5;33madata.obs['Lab_RNA_extr_protocol']\u001b[0m\u001b[38;5;33m \u001b[0m│\u001b[32m \u001b[0m\u001b[32m  QIAsymphony   \u001b[0m\u001b[32m \u001b[0m│\u001b[38;5;128m \u001b[0m\u001b[38;5;128m         0         \u001b[0m\u001b[38;5;128m \u001b[0m│\n",
       "│\u001b[38;5;33m \u001b[0m\u001b[38;5;33m                                  \u001b[0m\u001b[38;5;33m \u001b[0m│\u001b[32m \u001b[0m\u001b[32m     manual     \u001b[0m\u001b[32m \u001b[0m│\u001b[38;5;128m \u001b[0m\u001b[38;5;128m         1         \u001b[0m\u001b[38;5;128m \u001b[0m│\n",
       "│\u001b[38;5;33m \u001b[0m\u001b[38;5;33m                                  \u001b[0m\u001b[38;5;33m \u001b[0m│\u001b[32m \u001b[0m\u001b[32m                \u001b[0m\u001b[32m \u001b[0m│\u001b[38;5;128m \u001b[0m\u001b[38;5;128m                   \u001b[0m\u001b[38;5;128m \u001b[0m│\n",
       "│\u001b[38;5;33m \u001b[0m\u001b[38;5;33m    adata.obs['Sample_Group']     \u001b[0m\u001b[38;5;33m \u001b[0m│\u001b[32m \u001b[0m\u001b[32mStandard_control\u001b[0m\u001b[32m \u001b[0m│\u001b[38;5;128m \u001b[0m\u001b[38;5;128m         0         \u001b[0m\u001b[38;5;128m \u001b[0m│\n",
       "│\u001b[38;5;33m \u001b[0m\u001b[38;5;33m                                  \u001b[0m\u001b[38;5;33m \u001b[0m│\u001b[32m \u001b[0m\u001b[32m     Study      \u001b[0m\u001b[32m \u001b[0m│\u001b[38;5;128m \u001b[0m\u001b[38;5;128m         1         \u001b[0m\u001b[38;5;128m \u001b[0m│\n",
       "│\u001b[38;5;33m \u001b[0m\u001b[38;5;33m                                  \u001b[0m\u001b[38;5;33m \u001b[0m│\u001b[32m \u001b[0m\u001b[32m                \u001b[0m\u001b[32m \u001b[0m│\u001b[38;5;128m \u001b[0m\u001b[38;5;128m                   \u001b[0m\u001b[38;5;128m \u001b[0m│\n",
       "│\u001b[38;5;33m \u001b[0m\u001b[38;5;33m       adata.obs['Gender']        \u001b[0m\u001b[38;5;33m \u001b[0m│\u001b[32m \u001b[0m\u001b[32m     Female     \u001b[0m\u001b[32m \u001b[0m│\u001b[38;5;128m \u001b[0m\u001b[38;5;128m         0         \u001b[0m\u001b[38;5;128m \u001b[0m│\n",
       "│\u001b[38;5;33m \u001b[0m\u001b[38;5;33m                                  \u001b[0m\u001b[38;5;33m \u001b[0m│\u001b[32m \u001b[0m\u001b[32m      Male      \u001b[0m\u001b[32m \u001b[0m│\u001b[38;5;128m \u001b[0m\u001b[38;5;128m         1         \u001b[0m\u001b[38;5;128m \u001b[0m│\n",
       "│\u001b[38;5;33m \u001b[0m\u001b[38;5;33m                                  \u001b[0m\u001b[38;5;33m \u001b[0m│\u001b[32m \u001b[0m\u001b[32m      nan       \u001b[0m\u001b[32m \u001b[0m│\u001b[38;5;128m \u001b[0m\u001b[38;5;128m         2         \u001b[0m\u001b[38;5;128m \u001b[0m│\n",
       "│\u001b[38;5;33m \u001b[0m\u001b[38;5;33m                                  \u001b[0m\u001b[38;5;33m \u001b[0m│\u001b[32m \u001b[0m\u001b[32m                \u001b[0m\u001b[32m \u001b[0m│\u001b[38;5;128m \u001b[0m\u001b[38;5;128m                   \u001b[0m\u001b[38;5;128m \u001b[0m│\n",
       "│\u001b[38;5;33m \u001b[0m\u001b[38;5;33m   adata.obs['Diagnosis_Group']   \u001b[0m\u001b[38;5;33m \u001b[0m│\u001b[32m \u001b[0m\u001b[32m     CaseLC     \u001b[0m\u001b[32m \u001b[0m│\u001b[38;5;128m \u001b[0m\u001b[38;5;128m         0         \u001b[0m\u001b[38;5;128m \u001b[0m│\n",
       "│\u001b[38;5;33m \u001b[0m\u001b[38;5;33m                                  \u001b[0m\u001b[38;5;33m \u001b[0m│\u001b[32m \u001b[0m\u001b[32m   CaseNonLC    \u001b[0m\u001b[32m \u001b[0m│\u001b[38;5;128m \u001b[0m\u001b[38;5;128m         1         \u001b[0m\u001b[38;5;128m \u001b[0m│\n",
       "│\u001b[38;5;33m \u001b[0m\u001b[38;5;33m                                  \u001b[0m\u001b[38;5;33m \u001b[0m│\u001b[32m \u001b[0m\u001b[32m    Control     \u001b[0m\u001b[32m \u001b[0m│\u001b[38;5;128m \u001b[0m\u001b[38;5;128m         2         \u001b[0m\u001b[38;5;128m \u001b[0m│\n",
       "│\u001b[38;5;33m \u001b[0m\u001b[38;5;33m                                  \u001b[0m\u001b[38;5;33m \u001b[0m│\u001b[32m \u001b[0m\u001b[32m      nan       \u001b[0m\u001b[32m \u001b[0m│\u001b[38;5;128m \u001b[0m\u001b[38;5;128m         3         \u001b[0m\u001b[38;5;128m \u001b[0m│\n",
       "│\u001b[38;5;33m \u001b[0m\u001b[38;5;33m                                  \u001b[0m\u001b[38;5;33m \u001b[0m│\u001b[32m \u001b[0m\u001b[32m  unsecured_dx  \u001b[0m\u001b[32m \u001b[0m│\u001b[38;5;128m \u001b[0m\u001b[38;5;128m         4         \u001b[0m\u001b[38;5;128m \u001b[0m│\n",
       "│\u001b[38;5;33m \u001b[0m\u001b[38;5;33m                                  \u001b[0m\u001b[38;5;33m \u001b[0m│\u001b[32m \u001b[0m\u001b[32m                \u001b[0m\u001b[32m \u001b[0m│\u001b[38;5;128m \u001b[0m\u001b[38;5;128m                   \u001b[0m\u001b[38;5;128m \u001b[0m│\n",
       "└────────────────────────────────────┴──────────────────┴─────────────────────┘\n"
      ]
     },
     "metadata": {},
     "output_type": "display_data"
    }
   ],
   "source": [
    "scvi.data.view_anndata_setup(vae.adata)"
   ]
  },
  {
   "cell_type": "code",
   "execution_count": 11,
   "id": "lovely-listing",
   "metadata": {},
   "outputs": [
    {
     "name": "stderr",
     "output_type": "stream",
     "text": [
      "GPU available: True, used: True\n",
      "TPU available: False, using: 0 TPU cores\n",
      "LOCAL_RANK: 0 - CUDA_VISIBLE_DEVICES: [0,1,2,3]\n"
     ]
    },
    {
     "name": "stdout",
     "output_type": "stream",
     "text": [
      "Epoch 400/400: 100%|██████████| 400/400 [00:19<00:00, 20.13it/s, loss=2.09e+03, v_num=1]\n"
     ]
    }
   ],
   "source": [
    "vae.train()"
   ]
  },
  {
   "cell_type": "code",
   "execution_count": 13,
   "id": "noticed-indonesian",
   "metadata": {},
   "outputs": [
    {
     "name": "stdout",
     "output_type": "stream",
     "text": [
      "\u001b[34mINFO    \u001b[0m .obs\u001b[1m[\u001b[0m_scvi_labels\u001b[1m]\u001b[0m not found in target, assuming every cell is same category        \n",
      "\u001b[34mINFO    \u001b[0m Using data from adata.layers\u001b[1m[\u001b[0m\u001b[32m\"counts\"\u001b[0m\u001b[1m]\u001b[0m                                              \n",
      "\u001b[34mINFO    \u001b[0m Computing library size prior per batch                                              \n"
     ]
    },
    {
     "data": {
      "text/html": [
       "<pre style=\"white-space:pre;overflow-x:auto;line-height:normal;font-family:Menlo,'DejaVu Sans Mono',consolas,'Courier New',monospace\"><span style=\"color: #ff0000; text-decoration-color: #ff0000\">╭──────────────────────────── </span><span style=\"color: #800000; text-decoration-color: #800000; font-weight: bold\">Traceback </span><span style=\"color: #bf7f7f; text-decoration-color: #bf7f7f; font-weight: bold\">(most recent call last)</span><span style=\"color: #ff0000; text-decoration-color: #ff0000\"> ────────────────────────────╮</span>\n",
       "<span style=\"color: #ff0000; text-decoration-color: #ff0000\">│</span> <span style=\"color: #808000; text-decoration-color: #808000\">&lt;ipython-input-13-e3437e1c8ec4&gt;</span>:<span style=\"color: #0000ff; text-decoration-color: #0000ff\">4</span> in <span style=\"color: #00ff00; text-decoration-color: #00ff00\">&lt;module&gt;</span>                                             <span style=\"color: #ff0000; text-decoration-color: #ff0000\">│</span>\n",
       "<span style=\"color: #ff0000; text-decoration-color: #ff0000\">│</span>                                                                                           <span style=\"color: #ff0000; text-decoration-color: #ff0000\">│</span>\n",
       "<span style=\"color: #ff0000; text-decoration-color: #ff0000\">│</span> <span style=\"color: #bfbf7f; text-decoration-color: #bfbf7f\">/home/mah/conda/envs/hbdx/lib/python3.8/site-packages/scvi/data/</span><span style=\"color: #808000; text-decoration-color: #808000; font-weight: bold\">_anndata.py</span>:<span style=\"color: #0000ff; text-decoration-color: #0000ff\">449</span> in        <span style=\"color: #ff0000; text-decoration-color: #ff0000\">│</span>\n",
       "<span style=\"color: #ff0000; text-decoration-color: #ff0000\">│</span> <span style=\"color: #00ff00; text-decoration-color: #00ff00\">transfer_anndata_setup</span>                                                                    <span style=\"color: #ff0000; text-decoration-color: #ff0000\">│</span>\n",
       "<span style=\"color: #ff0000; text-decoration-color: #ff0000\">│</span>                                                                                           <span style=\"color: #ff0000; text-decoration-color: #ff0000\">│</span>\n",
       "<span style=\"color: #ff0000; text-decoration-color: #ff0000\">│</span>   <span style=\"color: #7f7f7f; text-decoration-color: #7f7f7f\"> 446 │   │   </span>source_cat_dict = _scvi_dict[<span style=\"color: #808000; text-decoration-color: #808000\">\"extra_categoricals\"</span>][<span style=\"color: #808000; text-decoration-color: #808000\">\"mappings\"</span>].copy()      <span style=\"color: #ff0000; text-decoration-color: #ff0000\">│</span>\n",
       "<span style=\"color: #ff0000; text-decoration-color: #ff0000\">│</span>   <span style=\"color: #7f7f7f; text-decoration-color: #7f7f7f\"> 447 │   │   # extend categories</span>                                                        <span style=\"color: #ff0000; text-decoration-color: #ff0000\">│</span>\n",
       "<span style=\"color: #ff0000; text-decoration-color: #ff0000\">│</span>   <span style=\"color: #7f7f7f; text-decoration-color: #7f7f7f\"> 448 │   │   </span><span style=\"color: #0000ff; text-decoration-color: #0000ff\">if</span> extend_categories:                                                      <span style=\"color: #ff0000; text-decoration-color: #ff0000\">│</span>\n",
       "<span style=\"color: #ff0000; text-decoration-color: #ff0000\">│</span> <span style=\"color: #800000; text-decoration-color: #800000\">❱ </span> 449 <span style=\"color: #7f7f7f; text-decoration-color: #7f7f7f\">│   │   │   </span><span style=\"color: #0000ff; text-decoration-color: #0000ff\">for</span> key, mapping <span style=\"color: #ff00ff; text-decoration-color: #ff00ff\">in</span> source_cat_dict:                                   <span style=\"color: #ff0000; text-decoration-color: #ff0000\">│</span>\n",
       "<span style=\"color: #ff0000; text-decoration-color: #ff0000\">│</span>   <span style=\"color: #7f7f7f; text-decoration-color: #7f7f7f\"> 450 │   │   │   │   </span><span style=\"color: #0000ff; text-decoration-color: #0000ff\">for</span> c <span style=\"color: #ff00ff; text-decoration-color: #ff00ff\">in</span> np.unique(adata_target.obs[key]):                         <span style=\"color: #ff0000; text-decoration-color: #ff0000\">│</span>\n",
       "<span style=\"color: #ff0000; text-decoration-color: #ff0000\">│</span>   <span style=\"color: #7f7f7f; text-decoration-color: #7f7f7f\"> 451 │   │   │   │   │   </span><span style=\"color: #0000ff; text-decoration-color: #0000ff\">if</span> c <span style=\"color: #ff00ff; text-decoration-color: #ff00ff\">not</span> <span style=\"color: #ff00ff; text-decoration-color: #ff00ff\">in</span> mapping:                                           <span style=\"color: #ff0000; text-decoration-color: #ff0000\">│</span>\n",
       "<span style=\"color: #ff0000; text-decoration-color: #ff0000\">│</span>   <span style=\"color: #7f7f7f; text-decoration-color: #7f7f7f\"> 452 │   │   │   │   │   │   </span>mapping = np.concatenate([mapping, [c]])                   <span style=\"color: #ff0000; text-decoration-color: #ff0000\">│</span>\n",
       "<span style=\"color: #ff0000; text-decoration-color: #ff0000\">╰───────────────────────────────────────────────────────────────────────────────────────────╯</span>\n",
       "<span style=\"color: #ff0000; text-decoration-color: #ff0000; font-weight: bold\">ValueError: </span>too many values to unpack <span style=\"font-weight: bold\">(</span>expected <span style=\"color: #008080; text-decoration-color: #008080; font-weight: bold\">2</span><span style=\"font-weight: bold\">)</span>\n",
       "</pre>\n"
      ],
      "text/plain": [
       "\u001b[91m╭─\u001b[0m\u001b[91m─────────────────────────── \u001b[0m\u001b[1;31mTraceback \u001b[0m\u001b[1;2;31m(most recent call last)\u001b[0m\u001b[91m ───────────────────────────\u001b[0m\u001b[91m─╮\u001b[0m\n",
       "\u001b[91m│\u001b[0m \u001b[33m<ipython-input-13-e3437e1c8ec4>\u001b[0m:\u001b[94m4\u001b[0m in \u001b[92m<module>\u001b[0m                                             \u001b[91m│\u001b[0m\n",
       "\u001b[91m│\u001b[0m                                                                                           \u001b[91m│\u001b[0m\n",
       "\u001b[91m│\u001b[0m \u001b[2;33m/home/mah/conda/envs/hbdx/lib/python3.8/site-packages/scvi/data/\u001b[0m\u001b[1;33m_anndata.py\u001b[0m:\u001b[94m449\u001b[0m in        \u001b[91m│\u001b[0m\n",
       "\u001b[91m│\u001b[0m \u001b[92mtransfer_anndata_setup\u001b[0m                                                                    \u001b[91m│\u001b[0m\n",
       "\u001b[91m│\u001b[0m                                                                                           \u001b[91m│\u001b[0m\n",
       "\u001b[91m│\u001b[0m   \u001b[2m 446 \u001b[0m\u001b[2m│   │   \u001b[0msource_cat_dict = _scvi_dict[\u001b[33m\"\u001b[0m\u001b[33mextra_categoricals\u001b[0m\u001b[33m\"\u001b[0m][\u001b[33m\"\u001b[0m\u001b[33mmappings\u001b[0m\u001b[33m\"\u001b[0m].copy()      \u001b[91m│\u001b[0m\n",
       "\u001b[91m│\u001b[0m   \u001b[2m 447 \u001b[0m\u001b[2m│   │   \u001b[0m\u001b[2m# extend categories\u001b[0m                                                        \u001b[91m│\u001b[0m\n",
       "\u001b[91m│\u001b[0m   \u001b[2m 448 \u001b[0m\u001b[2m│   │   \u001b[0m\u001b[94mif\u001b[0m extend_categories:                                                      \u001b[91m│\u001b[0m\n",
       "\u001b[91m│\u001b[0m \u001b[31m❱ \u001b[0m 449 \u001b[2m│   │   │   \u001b[0m\u001b[94mfor\u001b[0m key, mapping \u001b[95min\u001b[0m source_cat_dict:                                   \u001b[91m│\u001b[0m\n",
       "\u001b[91m│\u001b[0m   \u001b[2m 450 \u001b[0m\u001b[2m│   │   │   │   \u001b[0m\u001b[94mfor\u001b[0m c \u001b[95min\u001b[0m np.unique(adata_target.obs[key]):                         \u001b[91m│\u001b[0m\n",
       "\u001b[91m│\u001b[0m   \u001b[2m 451 \u001b[0m\u001b[2m│   │   │   │   │   \u001b[0m\u001b[94mif\u001b[0m c \u001b[95mnot\u001b[0m \u001b[95min\u001b[0m mapping:                                           \u001b[91m│\u001b[0m\n",
       "\u001b[91m│\u001b[0m   \u001b[2m 452 \u001b[0m\u001b[2m│   │   │   │   │   │   \u001b[0mmapping = np.concatenate([mapping, [c]])                   \u001b[91m│\u001b[0m\n",
       "\u001b[91m╰───────────────────────────────────────────────────────────────────────────────────────────╯\u001b[0m\n",
       "\u001b[1;91mValueError: \u001b[0mtoo many values to unpack \u001b[1m(\u001b[0mexpected \u001b[1;36m2\u001b[0m\u001b[1m)\u001b[0m\n"
      ]
     },
     "metadata": {},
     "output_type": "display_data"
    }
   ],
   "source": [
    "#vae.save(\"scvi_model/\")\n",
    "#vae = scvi.model.SCVI.load(\"scvi_model/\", adata, use_gpu=True)\n",
    "\n",
    "scvi.data.transfer_anndata_setup(ref_adata, new_adata, extend_categories=True)\n",
    "# scvi.data.setup_anndata(new_adata, batch_key=\"batch\", layer=\"counts\", categorical_covariate_keys=[\"Sequencer\", \"Lab_RNA_extr_protocol\", \"Sample_Group\", \"Gender\", \"Diagnosis_Group\"])\n",
    "\n",
    "# _ = scvi.model.SCVI(new_adata, n_latent=50)\n",
    "# _.train()"
   ]
  },
  {
   "cell_type": "code",
   "execution_count": null,
   "id": "sacred-angola",
   "metadata": {},
   "outputs": [],
   "source": [
    "latent = vae.get_latent_representation(new_adata)\n",
    "\n",
    "print(latent)\n",
    "scvi.data.setup_anndata(new_adata, batch_key=\"batch\", layer=\"counts\", categorical_covariate_keys=[\"Sequencer\", \"Lab_RNA_extr_protocol\", \"Sample_Group\", \"Gender\", \"Diagnosis_Group\"])\n",
    "\n",
    "vae_new_data = scvi.model.SCVI.load_query_data(new_adata, vae)\n",
    "\n",
    "vae_new_data.train(max_epochs=0, plan_kwargs=dict(weight_decay=0.0))\n",
    "\n",
    "\n",
    "laten_predictedt = vae_new_data.get_latent_representation()\n",
    "latent_control = vae_new_data.get_latent_representation(latent)\n",
    "\n",
    "# OKAY, so if you want to do inference, you need to re-initialize the VAE with the new data. \n",
    "print(latent.shape, predicted_latents.shape)"
   ]
  },
  {
   "cell_type": "code",
   "execution_count": null,
   "id": "0a260f1f",
   "metadata": {},
   "outputs": [],
   "source": []
  },
  {
   "cell_type": "code",
   "execution_count": 15,
   "id": "equal-captain",
   "metadata": {},
   "outputs": [
    {
     "name": "stdout",
     "output_type": "stream",
     "text": [
      "dict_keys(['scvi_version', 'categorical_mappings'])\n",
      "dict_keys(['X', 'batch_indices', 'local_l_mean', 'local_l_var', 'labels', 'cat_covs'])\n",
      "dict_keys(['mappings', 'keys', 'n_cats_per_key'])\n"
     ]
    }
   ],
   "source": [
    "# ref_adata.obsm[\"X_scVI\"] = latent\n",
    "# ref_adata.obsm[\"X_pca\"] = latent\n",
    "\n",
    "print(new_adata.uns[\"_scvi\"].keys())\n",
    "print(new_adata.uns[\"_scvi\"]['data_registry'])\n",
    "\n",
    "\n",
    "print(ref_adata.uns[\"_scvi\"]['data_registry'].keys())\n",
    "print(ref_adata.uns[\"_scvi\"][\"extra_categoricals\"].keys())\n"
   ]
  },
  {
   "cell_type": "code",
   "execution_count": null,
   "id": "printable-slovenia",
   "metadata": {
    "scrolled": true
   },
   "outputs": [],
   "source": [
    "# sc.pp.pca(ref_adata)\n",
    "# sc.pp.neighbors(ref_adata)\n",
    "\n",
    "\n",
    "sc.pp.neighbors(ref_adata, use_rep=\"X_scVI\"  )\n",
    "# sc.pp.neighbors(ref_adata, use_rep=\"X_pca\", n_neighbors=10)\n",
    "sc.tl.umap(ref_adata)\n",
    "\n",
    "print(ref_adata.obsm)\n",
    "\n",
    "# print(ref_adata.obsm[\"X_scVI\"].shape, ref_adata.obsm[\"X_pca\"].shape)"
   ]
  },
  {
   "cell_type": "code",
   "execution_count": null,
   "id": "resistant-proposition",
   "metadata": {},
   "outputs": [],
   "source": [
    "sc.pl.umap(ref_adata, color=[\"Sample_Group\", \"Lab_Multiplexing_pool_ID\", \"Diagnosis_Group\", \"ProjectName\",\"Gender\",\"Sequencer\",\"ColDevice_Weight\", \"Lab_RNA_extr_protocol\", \"RIN\",\"Lab_Blocking_Protocol\",\"Lab_Library_Purification\" ,\"Site_Measurement\", \"TumStageSimp\", \"Diagnosis_Group_sub\", \"Age\", \"Packyears\", \"Ethnicity\", \"Lab_Library_Protocol\",  \"FlowCell_nr_of_flow_cells\" ],    ncols=3, use_raw=False, )"
   ]
  },
  {
   "cell_type": "code",
   "execution_count": null,
   "id": "helpful-performance",
   "metadata": {},
   "outputs": [],
   "source": [
    "print(new_adata.shape, ref_adata.shape)\n",
    "print(new_adata.X.shape, ref_adata.X.shape)\n",
    "print(new_adata.layers[\"counts\"].shape, ref_adata.layers[\"counts\"].shape)\n",
    "\n",
    "# sc.tl.ingest = Map labels and embeddings from reference data to new data.\n",
    "\n",
    "new_adata_mapped = sc.tl.ingest(new_adata, ref_adata, inplace=False, embedding_method='umap')"
   ]
  },
  {
   "cell_type": "code",
   "execution_count": null,
   "id": "a8c8e595",
   "metadata": {},
   "outputs": [],
   "source": [
    "distances = ref_adata.uns['neighbors']['distances']\n",
    "n_neighbors = 15\n",
    "for j, i in enumerate(distances.tolil().rows):\n",
    "    \n",
    "    if len(i) == n_neighbors-1:\n",
    "        pass\n",
    "    else:\n",
    "        print(j, i)\n",
    "\n"
   ]
  },
  {
   "cell_type": "code",
   "execution_count": null,
   "id": "3f327de0",
   "metadata": {},
   "outputs": [],
   "source": [
    "print(new_adata.obs.shape, ref_adata.obs.shape)\n",
    "\n",
    "print(new_adata.var.shape, ref_adata.var.shape)\n",
    "\n",
    "print(new_adata.var_names.symmetric_difference(ref_adata.var_names))\n",
    "\n",
    "print(ref_adata.uns['neighbors'])\n",
    "\n",
    "# print(ref_adata.obsp['distances'])\n",
    "\n",
    "# print(ref_adata.uns['neighbors']['distances'])"
   ]
  },
  {
   "cell_type": "code",
   "execution_count": null,
   "id": "persistent-forum",
   "metadata": {},
   "outputs": [],
   "source": [
    "merged_adata = ref_adata.concatenate(new_adata_mapped)\n",
    "\n",
    "sc.pl.umap(merged_adata , color=[ \"Sample_Group\",\"Lab_Multiplexing_pool_ID\", \"Diagnosis_Group\", \"Sequencer\",\"Lab_RNA_extr_protocol\" ], ncols=2, use_raw=False, )\n",
    "\n",
    "sc.pl.umap(merged_adata , color=[\"Lab_Multiplexing_pool_ID\"], groups=holdout_batches, ncols=2, use_raw=False, )"
   ]
  },
  {
   "cell_type": "code",
   "execution_count": null,
   "id": "7272d17c",
   "metadata": {},
   "outputs": [],
   "source": [
    "print(\"ref_adata\")\n",
    "\n",
    "for i in ref_adata.obsm:\n",
    "    print(i)\n",
    "\n",
    "print(\"new_adata\")\n",
    "\n",
    "for i in new_adata.obsm:\n",
    "    print(i)"
   ]
  },
  {
   "cell_type": "code",
   "execution_count": null,
   "id": "deb99fea",
   "metadata": {},
   "outputs": [],
   "source": [
    "print(ref_adata.obsm[\"X_scVI\"].shape) # 10-dim latent representation of the 661 samples.\n",
    "print(ref_adata.obsm[\"X_pca\"].shape)"
   ]
  },
  {
   "cell_type": "code",
   "execution_count": null,
   "id": "cac506eb",
   "metadata": {},
   "outputs": [],
   "source": [
    "ref_adata.uns[\"neighbors\"]"
   ]
  },
  {
   "cell_type": "code",
   "execution_count": null,
   "id": "5c57f415",
   "metadata": {},
   "outputs": [],
   "source": [
    "\n",
    "# var_names = adata_ref.var_names.intersection(adata.var_names) #only take overlapping features\n",
    "# adata_ref = adata_ref[:, var_names]\n",
    "# adata = adata[:, var_names]\n",
    "\n",
    "# print(adata.shape, adata_ref.shape)\n"
   ]
  },
  {
   "cell_type": "code",
   "execution_count": null,
   "id": "6d02fa1a",
   "metadata": {},
   "outputs": [],
   "source": [
    "distances = ref_adata.uns['neighbors']['distances']\n",
    "\n",
    "first_col = np.arange(distances.shape[0])[:, None]\n",
    "# print(first_col)\n",
    "init_indices = np.hstack((first_col, np.stack(distances.tolil().rows)))"
   ]
  },
  {
   "cell_type": "code",
   "execution_count": null,
   "id": "2b471fb8",
   "metadata": {},
   "outputs": [],
   "source": [
    "n_neighbors = 11\n",
    "\n",
    "sc.pp.neighbors(ref_adata, use_rep=\"X_pca\", n_neighbors=n_neighbors)\n",
    "distances = ref_adata.uns['neighbors']['distances']\n",
    "\n",
    "for j, i in enumerate(distances.tolil().rows):\n",
    "    \n",
    "    if len(i) == n_neighbors-1:\n",
    "        pass\n",
    "    else:\n",
    "        print(j, i)"
   ]
  },
  {
   "cell_type": "code",
   "execution_count": null,
   "id": "5b84f48c",
   "metadata": {},
   "outputs": [],
   "source": [
    "for i in [441, 442, 443, 444, 445, 446, 447, 448, 449, 450, 451, 452, 453, 454, 455]:\n",
    "    print(ref_adata.obs.index[i])\n"
   ]
  },
  {
   "cell_type": "code",
   "execution_count": null,
   "id": "85be34a9",
   "metadata": {},
   "outputs": [],
   "source": [
    "to_drop = [ref_adata.obs.iloc[x].name for x in [445, 446, 447, 448, 449, 450, 451, 452, 453, 454]]"
   ]
  },
  {
   "cell_type": "code",
   "execution_count": null,
   "id": "bb6d4766",
   "metadata": {},
   "outputs": [],
   "source": [
    "print(ref_adata.obs.shape)\n",
    "dropped = ref_adata[~ref_adata.obs.index.isin(to_drop),:]\n",
    "\n",
    "print(dropped.obs.shape)"
   ]
  },
  {
   "cell_type": "code",
   "execution_count": null,
   "id": "dcb6564a",
   "metadata": {},
   "outputs": [],
   "source": [
    "sc.pp.neighbors(dropped, use_rep=\"X_pca\"  )\n",
    "# sc.pp.neighbors(ref_adata, use_rep=\"X_pca\", n_neighbors=10)\n",
    "sc.tl.umap(dropped)"
   ]
  },
  {
   "cell_type": "code",
   "execution_count": null,
   "id": "4fd5e4e3",
   "metadata": {},
   "outputs": [],
   "source": [
    "new_adata_mapped = sc.tl.ingest(new_adata, dropped, inplace=False, embedding_method='umap')"
   ]
  },
  {
   "cell_type": "code",
   "execution_count": null,
   "id": "121ebb4f",
   "metadata": {},
   "outputs": [],
   "source": [
    "the_ten = ref_adata[ref_adata.obs.index.isin(to_drop),:]"
   ]
  },
  {
   "cell_type": "code",
   "execution_count": null,
   "id": "728f8856",
   "metadata": {},
   "outputs": [],
   "source": [
    "the_ten.X"
   ]
  },
  {
   "cell_type": "code",
   "execution_count": null,
   "id": "38f8cb5a",
   "metadata": {},
   "outputs": [],
   "source": [
    "for i in the_ten.uns['neighbors']['distances'].tolil().rows:\n",
    "    print(i)\n"
   ]
  },
  {
   "cell_type": "code",
   "execution_count": null,
   "id": "4b96d3d8",
   "metadata": {},
   "outputs": [],
   "source": [
    "for i in the_ten.X:\n",
    "    print(sum(i))"
   ]
  },
  {
   "cell_type": "code",
   "execution_count": null,
   "id": "72689ccd",
   "metadata": {},
   "outputs": [],
   "source": [
    "for i in ref_adata.X:\n",
    "    print(sum(i))\n",
    "\n"
   ]
  },
  {
   "cell_type": "code",
   "execution_count": null,
   "id": "adb740b4",
   "metadata": {},
   "outputs": [],
   "source": [
    "ref_adata.uns['version']"
   ]
  },
  {
   "cell_type": "code",
   "execution_count": null,
   "id": "4fdee94d",
   "metadata": {},
   "outputs": [],
   "source": [
    "adata_path_old = \"/data/hbdx/test_classifynder/data/LC__ngs__rpm_log-21.2.3.h5ad\"\n",
    "adata_old = get_data(adata_path,\n",
    "                #cell_col=\"Gender\"\n",
    "                )"
   ]
  },
  {
   "cell_type": "code",
   "execution_count": null,
   "id": "3794bf28",
   "metadata": {},
   "outputs": [],
   "source": [
    "for i in adata_old.X:\n",
    "    print(sum(i))"
   ]
  },
  {
   "cell_type": "code",
   "execution_count": null,
   "id": "64ba79b1",
   "metadata": {},
   "outputs": [],
   "source": [
    "baddies = [\"468_0019_S__210122_468_Pool6\", \n",
    "           \"468_0019__210122_468_Pool6\",\n",
    "           \"468_0020_S__210122_468_Pool6\",\n",
    "           \"468_0020__210122_468_Pool6\",\n",
    "           \"468_0021_S__210122_468_Pool6\",\n",
    "           \"468_0021__210122_468_Pool6\",\n",
    "           \"468_0022_S__210122_468_Pool6\",\n",
    "           \"468_0022__210122_468_Pool6\",\n",
    "           \"468_0023_S__210122_468_Pool6\",\n",
    "           \"468_0023__210122_468_Pool6\",\n",
    "           \"468_0024_S__210122_468_Pool6\",\n",
    "           \"468_0024__210122_468_Pool6\"]\n"
   ]
  },
  {
   "cell_type": "code",
   "execution_count": null,
   "id": "6ff297ad",
   "metadata": {},
   "outputs": [],
   "source": [
    "the_ten_old = adata_old[adata_old.obs.index.isin(baddies),:].copy()\n",
    "\n",
    "for i in the_ten_old.X:\n",
    "    print(sum(i))"
   ]
  },
  {
   "cell_type": "code",
   "execution_count": null,
   "id": "033c1053",
   "metadata": {},
   "outputs": [],
   "source": [
    "print(the_ten_old.obs[\"Diagnosis_Group\"])"
   ]
  },
  {
   "cell_type": "code",
   "execution_count": null,
   "id": "d788e3f1",
   "metadata": {},
   "outputs": [],
   "source": [
    "for i in adata_old.obs[\"Sample_Group\"]:\n",
    "    print(i)"
   ]
  },
  {
   "cell_type": "code",
   "execution_count": null,
   "id": "c02801af",
   "metadata": {},
   "outputs": [],
   "source": [
    "for i in adata_old.obs.columns:\n",
    "    print(i)\n"
   ]
  },
  {
   "cell_type": "code",
   "execution_count": null,
   "id": "daa72e13",
   "metadata": {},
   "outputs": [],
   "source": [
    "import matplotlib.pyplot as plt\n",
    "\n",
    "X_ = the_ten_old.X.copy()\n",
    "\n",
    "\n",
    "plt.matshow(np.corrcoef(X_))\n"
   ]
  },
  {
   "cell_type": "code",
   "execution_count": null,
   "id": "6146621a",
   "metadata": {},
   "outputs": [],
   "source": [
    "X_total = adata_old.X.copy()\n",
    "\n",
    "corr_co_eff = np.corrcoef(X_total)\n",
    "\n",
    "plt.matshow(corr_co_eff) "
   ]
  },
  {
   "cell_type": "code",
   "execution_count": null,
   "id": "9adbf120",
   "metadata": {},
   "outputs": [],
   "source": [
    "masked = np.ma.masked_not_equal(corr_co_eff, 1)\n",
    "\n",
    "np.fill_diagonal(masked, 0)\n",
    "\n",
    "plt.matshow(masked)"
   ]
  },
  {
   "cell_type": "code",
   "execution_count": null,
   "id": "53d03fc6",
   "metadata": {},
   "outputs": [],
   "source": [
    "print(masked)\n",
    "print(corr_co_eff)"
   ]
  },
  {
   "cell_type": "code",
   "execution_count": null,
   "id": "bc4547ee",
   "metadata": {},
   "outputs": [],
   "source": [
    "print(np.ma.masked_not_equal(np.corrcoef(X_), 1.0))"
   ]
  },
  {
   "cell_type": "code",
   "execution_count": null,
   "id": "bf6ca61f",
   "metadata": {},
   "outputs": [],
   "source": [
    "x_corr = np.corrcoef(X_)"
   ]
  },
  {
   "cell_type": "code",
   "execution_count": null,
   "id": "ba0234fc",
   "metadata": {},
   "outputs": [],
   "source": [
    "x_corr.astype(int)"
   ]
  },
  {
   "cell_type": "code",
   "execution_count": null,
   "id": "54fd1bba",
   "metadata": {
    "scrolled": false
   },
   "outputs": [],
   "source": [
    "proper_mask = np.where(x_corr <= .9999999999999, x_corr, 1).astype(int)"
   ]
  },
  {
   "cell_type": "code",
   "execution_count": null,
   "id": "4bb85043",
   "metadata": {},
   "outputs": [],
   "source": [
    "np.fill_diagonal(proper_mask, 0)"
   ]
  },
  {
   "cell_type": "code",
   "execution_count": null,
   "id": "4d366fd1",
   "metadata": {},
   "outputs": [],
   "source": [
    "proper_mask"
   ]
  },
  {
   "cell_type": "code",
   "execution_count": null,
   "id": "37359844",
   "metadata": {},
   "outputs": [],
   "source": []
  }
 ],
 "metadata": {
  "kernelspec": {
   "display_name": "Python 3",
   "language": "python",
   "name": "python3"
  },
  "language_info": {
   "codemirror_mode": {
    "name": "ipython",
    "version": 3
   },
   "file_extension": ".py",
   "mimetype": "text/x-python",
   "name": "python",
   "nbconvert_exporter": "python",
   "pygments_lexer": "ipython3",
   "version": "3.8.8"
  }
 },
 "nbformat": 4,
 "nbformat_minor": 5
}
