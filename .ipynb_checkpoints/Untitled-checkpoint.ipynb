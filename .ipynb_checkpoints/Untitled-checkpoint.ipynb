{
 "cells": [
  {
   "cell_type": "code",
   "execution_count": null,
   "id": "81dcc055",
   "metadata": {},
   "outputs": [],
   "source": [
    "\n",
    "import numpy as np\n",
    "import scipy as sp\n",
    "import scipy.sparse\n",
    "import pandas as pd\n",
    "import os\n",
    "import bbknn\n",
    "import seaborn as sns\n",
    "import anndata as ad\n",
    "import matplotlib.pyplot as plt\n",
    "import scanpy as sc\n",
    "import scvi\n",
    "\n",
    "import matplotlib.pyplot as plt\n",
    "\n",
    "import hummingbird as hbdx\n"
   ]
  },
  {
   "cell_type": "code",
   "execution_count": null,
   "id": "be8cc7e7",
   "metadata": {},
   "outputs": [],
   "source": [
    "sc.settings.verbosity = 1             # verbosity: errors (0), warnings (1), info (2), hints (3)\n",
    "sc.logging.print_versions()\n",
    "sc.settings.set_figure_params(dpi=80, frameon=False, figsize=(3, 3), facecolor='white')\n",
    "\n",
    "%matplotlib inline\n",
    "%load_ext autoreload\n",
    "%autoreload 2\n",
    "sc.set_figure_params(figsize=(10,10))"
   ]
  },
  {
   "cell_type": "code",
   "execution_count": null,
   "id": "a2a7f1a0",
   "metadata": {},
   "outputs": [],
   "source": [
    "adata_ref = sc.datasets.pbmc3k_processed()  # this is an earlier version of the dataset from the pbmc3k tutorial\n",
    "adata = sc.datasets.pbmc68k_reduced()\n",
    "\n",
    "print(adata.shape, adata_ref.shape)"
   ]
  },
  {
   "cell_type": "code",
   "execution_count": null,
   "id": "9a463442",
   "metadata": {},
   "outputs": [],
   "source": [
    "print(adata.var.shape, adata_ref.var.shape)\n",
    "\n",
    "var_names = adata_ref.var_names.intersection(adata.var_names) #only take overlapping features\n",
    "adata_ref = adata_ref[:, var_names]\n",
    "adata = adata[:, var_names]\n",
    "\n",
    "print(adata.shape, adata_ref.shape)"
   ]
  },
  {
   "cell_type": "code",
   "execution_count": null,
   "id": "482f7935",
   "metadata": {},
   "outputs": [],
   "source": [
    "sc.pp.pca(adata_ref)\n",
    "sc.pp.neighbors(adata_ref)\n",
    "sc.tl.umap(adata_ref)\n"
   ]
  },
  {
   "cell_type": "code",
   "execution_count": null,
   "id": "c15adb5d",
   "metadata": {},
   "outputs": [],
   "source": [
    "print(adata.shape, adata_ref.shape)"
   ]
  },
  {
   "cell_type": "code",
   "execution_count": null,
   "id": "aff4579d",
   "metadata": {},
   "outputs": [],
   "source": [
    "for i in [adata, adata_ref]:\n",
    "    print(i)\n",
    "    for j in i.obsm:\n",
    "        print(j)"
   ]
  },
  {
   "cell_type": "code",
   "execution_count": null,
   "id": "c11b84a0",
   "metadata": {},
   "outputs": [],
   "source": [
    "sc.pl.umap(adata_ref, color=['percent_mito', 'n_counts', 'louvain'])"
   ]
  },
  {
   "cell_type": "code",
   "execution_count": null,
   "id": "59ea8340",
   "metadata": {},
   "outputs": [],
   "source": [
    "sc.tl.ingest(adata, adata_ref, obs='louvain')"
   ]
  },
  {
   "cell_type": "code",
   "execution_count": null,
   "id": "0af17ea7",
   "metadata": {},
   "outputs": [],
   "source": [
    "print(adata.shape, adata_ref.shape)\n",
    "print(adata.obs.shape, adata_ref.obs.shape)\n",
    "print(adata.var.shape, adata_ref.var.shape)\n",
    "\n",
    "\n",
    "for i in [adata, adata_ref]:\n",
    "    for j in i.obsm:\n",
    "        print(j)\n"
   ]
  },
  {
   "cell_type": "code",
   "execution_count": null,
   "id": "2768696c",
   "metadata": {},
   "outputs": [],
   "source": [
    "adata.uns['louvain_colors'] = adata_ref.uns['louvain_colors']  # fix colors"
   ]
  },
  {
   "cell_type": "code",
   "execution_count": null,
   "id": "b81652cb",
   "metadata": {},
   "outputs": [],
   "source": [
    "sc.pl.umap(adata, color=['louvain', 'bulk_labels'], wspace=0.5)"
   ]
  },
  {
   "cell_type": "code",
   "execution_count": null,
   "id": "cbf890f3",
   "metadata": {},
   "outputs": [],
   "source": []
  }
 ],
 "metadata": {
  "kernelspec": {
   "display_name": "Python 3",
   "language": "python",
   "name": "python3"
  },
  "language_info": {
   "codemirror_mode": {
    "name": "ipython",
    "version": 3
   },
   "file_extension": ".py",
   "mimetype": "text/x-python",
   "name": "python",
   "nbconvert_exporter": "python",
   "pygments_lexer": "ipython3",
   "version": "3.8.8"
  }
 },
 "nbformat": 4,
 "nbformat_minor": 5
}
